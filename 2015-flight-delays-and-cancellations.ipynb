{
 "cells": [
  {
   "cell_type": "code",
   "execution_count": 1,
   "id": "1306b172",
   "metadata": {
    "_cell_guid": "b1076dfc-b9ad-4769-8c92-a6c4dae69d19",
    "_uuid": "8f2839f25d086af736a60e9eeb907d3b93b6e0e5",
    "execution": {
     "iopub.execute_input": "2022-10-19T18:04:00.594555Z",
     "iopub.status.busy": "2022-10-19T18:04:00.593549Z",
     "iopub.status.idle": "2022-10-19T18:04:00.614627Z",
     "shell.execute_reply": "2022-10-19T18:04:00.613428Z"
    },
    "papermill": {
     "duration": 0.029924,
     "end_time": "2022-10-19T18:04:00.617912",
     "exception": false,
     "start_time": "2022-10-19T18:04:00.587988",
     "status": "completed"
    },
    "tags": []
   },
   "outputs": [
    {
     "name": "stdout",
     "output_type": "stream",
     "text": [
      "/kaggle/input/flight-delays/airports.csv\n",
      "/kaggle/input/flight-delays/airlines.csv\n",
      "/kaggle/input/flight-delays/flights.csv\n"
     ]
    }
   ],
   "source": [
    "# This Python 3 environment comes with many helpful analytics libraries installed\n",
    "# It is defined by the kaggle/python Docker image: https://github.com/kaggle/docker-python\n",
    "# For example, here's several helpful packages to load\n",
    "\n",
    "import numpy as np # linear algebra\n",
    "import pandas as pd # data processing, CSV file I/O (e.g. pd.read_csv)\n",
    "\n",
    "# Input data files are available in the read-only \"../input/\" directory\n",
    "# For example, running this (by clicking run or pressing Shift+Enter) will list all files under the input directory\n",
    "\n",
    "import os\n",
    "for dirname, _, filenames in os.walk('/kaggle/input'):\n",
    "    for filename in filenames:\n",
    "        print(os.path.join(dirname, filename))\n",
    "\n",
    "# You can write up to 20GB to the current directory (/kaggle/working/) that gets preserved as output when you create a version using \"Save & Run All\" \n",
    "# You can also write temporary files to /kaggle/temp/, but they won't be saved outside of the current session"
   ]
  },
  {
   "cell_type": "code",
   "execution_count": 2,
   "id": "52b13a62",
   "metadata": {
    "execution": {
     "iopub.execute_input": "2022-10-19T18:04:00.626191Z",
     "iopub.status.busy": "2022-10-19T18:04:00.625147Z",
     "iopub.status.idle": "2022-10-19T18:04:00.635088Z",
     "shell.execute_reply": "2022-10-19T18:04:00.634021Z"
    },
    "papermill": {
     "duration": 0.016639,
     "end_time": "2022-10-19T18:04:00.637628",
     "exception": false,
     "start_time": "2022-10-19T18:04:00.620989",
     "status": "completed"
    },
    "tags": []
   },
   "outputs": [],
   "source": [
    "from pandasql import sqldf"
   ]
  },
  {
   "cell_type": "code",
   "execution_count": 3,
   "id": "3b281520",
   "metadata": {
    "execution": {
     "iopub.execute_input": "2022-10-19T18:04:00.644746Z",
     "iopub.status.busy": "2022-10-19T18:04:00.644040Z",
     "iopub.status.idle": "2022-10-19T18:04:00.692176Z",
     "shell.execute_reply": "2022-10-19T18:04:00.690197Z"
    },
    "papermill": {
     "duration": 0.05462,
     "end_time": "2022-10-19T18:04:00.694834",
     "exception": false,
     "start_time": "2022-10-19T18:04:00.640214",
     "status": "completed"
    },
    "tags": []
   },
   "outputs": [
    {
     "name": "stdout",
     "output_type": "stream",
     "text": [
      "<class 'pandas.core.frame.DataFrame'>\n",
      "RangeIndex: 322 entries, 0 to 321\n",
      "Data columns (total 7 columns):\n",
      " #   Column     Non-Null Count  Dtype  \n",
      "---  ------     --------------  -----  \n",
      " 0   IATA_CODE  322 non-null    object \n",
      " 1   AIRPORT    322 non-null    object \n",
      " 2   CITY       322 non-null    object \n",
      " 3   STATE      322 non-null    object \n",
      " 4   COUNTRY    322 non-null    object \n",
      " 5   LATITUDE   319 non-null    float64\n",
      " 6   LONGITUDE  319 non-null    float64\n",
      "dtypes: float64(2), object(5)\n",
      "memory usage: 17.7+ KB\n"
     ]
    }
   ],
   "source": [
    "path = '/kaggle/input/flight-delays/airports.csv'\n",
    "airports = pd.read_csv(path)\n",
    "\n",
    "airports.info()"
   ]
  },
  {
   "cell_type": "code",
   "execution_count": 4,
   "id": "1d2d7d85",
   "metadata": {
    "execution": {
     "iopub.execute_input": "2022-10-19T18:04:00.702875Z",
     "iopub.status.busy": "2022-10-19T18:04:00.701540Z",
     "iopub.status.idle": "2022-10-19T18:04:00.718165Z",
     "shell.execute_reply": "2022-10-19T18:04:00.717327Z"
    },
    "papermill": {
     "duration": 0.023032,
     "end_time": "2022-10-19T18:04:00.720621",
     "exception": false,
     "start_time": "2022-10-19T18:04:00.697589",
     "status": "completed"
    },
    "tags": []
   },
   "outputs": [
    {
     "name": "stdout",
     "output_type": "stream",
     "text": [
      "<class 'pandas.core.frame.DataFrame'>\n",
      "RangeIndex: 14 entries, 0 to 13\n",
      "Data columns (total 2 columns):\n",
      " #   Column     Non-Null Count  Dtype \n",
      "---  ------     --------------  ----- \n",
      " 0   IATA_CODE  14 non-null     object\n",
      " 1   AIRLINE    14 non-null     object\n",
      "dtypes: object(2)\n",
      "memory usage: 352.0+ bytes\n"
     ]
    }
   ],
   "source": [
    "path = '/kaggle/input/flight-delays/airlines.csv'\n",
    "airlines = pd.read_csv(path)\n",
    "\n",
    "airlines.info()"
   ]
  },
  {
   "cell_type": "code",
   "execution_count": 5,
   "id": "f8a482ea",
   "metadata": {
    "execution": {
     "iopub.execute_input": "2022-10-19T18:04:00.727577Z",
     "iopub.status.busy": "2022-10-19T18:04:00.727199Z",
     "iopub.status.idle": "2022-10-19T18:04:28.845340Z",
     "shell.execute_reply": "2022-10-19T18:04:28.843398Z"
    },
    "papermill": {
     "duration": 28.124798,
     "end_time": "2022-10-19T18:04:28.848176",
     "exception": false,
     "start_time": "2022-10-19T18:04:00.723378",
     "status": "completed"
    },
    "tags": []
   },
   "outputs": [
    {
     "name": "stderr",
     "output_type": "stream",
     "text": [
      "/opt/conda/lib/python3.7/site-packages/IPython/core/interactiveshell.py:3552: DtypeWarning: Columns (7,8) have mixed types.Specify dtype option on import or set low_memory=False.\n",
      "  exec(code_obj, self.user_global_ns, self.user_ns)\n"
     ]
    },
    {
     "name": "stdout",
     "output_type": "stream",
     "text": [
      "<class 'pandas.core.frame.DataFrame'>\n",
      "RangeIndex: 5819079 entries, 0 to 5819078\n",
      "Data columns (total 31 columns):\n",
      " #   Column               Dtype  \n",
      "---  ------               -----  \n",
      " 0   YEAR                 int64  \n",
      " 1   MONTH                int64  \n",
      " 2   DAY                  int64  \n",
      " 3   DAY_OF_WEEK          int64  \n",
      " 4   AIRLINE              object \n",
      " 5   FLIGHT_NUMBER        int64  \n",
      " 6   TAIL_NUMBER          object \n",
      " 7   ORIGIN_AIRPORT       object \n",
      " 8   DESTINATION_AIRPORT  object \n",
      " 9   SCHEDULED_DEPARTURE  int64  \n",
      " 10  DEPARTURE_TIME       float64\n",
      " 11  DEPARTURE_DELAY      float64\n",
      " 12  TAXI_OUT             float64\n",
      " 13  WHEELS_OFF           float64\n",
      " 14  SCHEDULED_TIME       float64\n",
      " 15  ELAPSED_TIME         float64\n",
      " 16  AIR_TIME             float64\n",
      " 17  DISTANCE             int64  \n",
      " 18  WHEELS_ON            float64\n",
      " 19  TAXI_IN              float64\n",
      " 20  SCHEDULED_ARRIVAL    int64  \n",
      " 21  ARRIVAL_TIME         float64\n",
      " 22  ARRIVAL_DELAY        float64\n",
      " 23  DIVERTED             int64  \n",
      " 24  CANCELLED            int64  \n",
      " 25  CANCELLATION_REASON  object \n",
      " 26  AIR_SYSTEM_DELAY     float64\n",
      " 27  SECURITY_DELAY       float64\n",
      " 28  AIRLINE_DELAY        float64\n",
      " 29  LATE_AIRCRAFT_DELAY  float64\n",
      " 30  WEATHER_DELAY        float64\n",
      "dtypes: float64(16), int64(10), object(5)\n",
      "memory usage: 1.3+ GB\n"
     ]
    }
   ],
   "source": [
    "path = '/kaggle/input/flight-delays/flights.csv'\n",
    "flights = pd.read_csv(path)\n",
    "\n",
    "flights.info()"
   ]
  },
  {
   "cell_type": "code",
   "execution_count": null,
   "id": "adbd29f9",
   "metadata": {
    "papermill": {
     "duration": 0.002778,
     "end_time": "2022-10-19T18:04:28.854425",
     "exception": false,
     "start_time": "2022-10-19T18:04:28.851647",
     "status": "completed"
    },
    "tags": []
   },
   "outputs": [],
   "source": []
  }
 ],
 "metadata": {
  "kernelspec": {
   "display_name": "Python 3",
   "language": "python",
   "name": "python3"
  },
  "language_info": {
   "codemirror_mode": {
    "name": "ipython",
    "version": 3
   },
   "file_extension": ".py",
   "mimetype": "text/x-python",
   "name": "python",
   "nbconvert_exporter": "python",
   "pygments_lexer": "ipython3",
   "version": "3.7.12"
  },
  "papermill": {
   "default_parameters": {},
   "duration": 39.26335,
   "end_time": "2022-10-19T18:04:29.781059",
   "environment_variables": {},
   "exception": null,
   "input_path": "__notebook__.ipynb",
   "output_path": "__notebook__.ipynb",
   "parameters": {},
   "start_time": "2022-10-19T18:03:50.517709",
   "version": "2.3.4"
  }
 },
 "nbformat": 4,
 "nbformat_minor": 5
}
